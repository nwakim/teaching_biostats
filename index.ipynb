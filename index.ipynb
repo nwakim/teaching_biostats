{
  "cells": [
    {
      "cell_type": "raw",
      "metadata": {},
      "source": [
        "---\n",
        "title: \"Nicky Wakim\"\n",
        "subtitle: \"She/her/hers\"\n",
        "description: \"Pronunciation: Nih-COAL Wah-KEEM\"\n",
        "image: N_Wakim.jpg\n",
        "about:\n",
        "  template: trestles\n",
        "  links:\n",
        "    - icon: envelope-at-fill\n",
        "      text: \"Email\"\n",
        "      href: \"mailto:wakim@ohsu.edu\"\n",
        "    - icon: github\n",
        "      text: \"Github\"\n",
        "      href: \"https://github.com/nwakim\"\n",
        "    - icon: google\n",
        "      text: \"Scholar\"\n",
        "      href: \"https://scholar.google.com/citations?user=3pA9LmIAAAAJ&hl=en\"\n",
        "---"
      ],
      "id": "9b802721"
    },
    {
      "cell_type": "markdown",
      "metadata": {},
      "source": [
        "```{css, echo=FALSE}\n",
        ".title {\n",
        "  font-size: 100px;\n",
        "  font-style: italic;\n",
        "  color: blue;\n",
        "  font-family: Arial;\n",
        "  font-variant: small-caps;\n",
        "}\n",
        "```\n",
        "\n",
        "\n",
        "Hello! My name is Nicole (Nicky) Wakim. I am an Assistant Professor in the School of Public Health at Oregon Health & Science University. Prior to my faculty appointment in 2023, I earned my PhD in Biostatistics from the University of Michigan, where my research focused on summarizing and imputing high frequency predictors, specifically digital biomarkers.\n",
        "\n",
        "Most of my time is spent developing, improving, and teaching graduate-level biostatistics courses at OHSU. I create content in the classroom to improve accesibility for all students. I am also working on a dataset repository that will translate publicly available datasets to teachers so that they can easily search for datasets to use in their classrooms.\n",
        "\n",
        "My research work focuses on methodology and analysis involving Alzheimer's disease and dementia. I work with high-frequency digital biomarker data to inform underlying cognitive ability of individuals. I am interested in longitudinal analysis of digital biomarker data and creating methods that help clinicians!\n",
        "\n",
        "For fun, I love to serve it up in volleyball, tend to my indoor garden, and get my hands on anything crafty!"
      ],
      "id": "e6f757b0"
    }
  ],
  "metadata": {
    "kernelspec": {
      "display_name": "Python 3",
      "language": "python",
      "name": "python3"
    }
  },
  "nbformat": 4,
  "nbformat_minor": 5
}